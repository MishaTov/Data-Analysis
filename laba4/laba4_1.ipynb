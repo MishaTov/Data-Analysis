{
 "cells": [
  {
   "cell_type": "code",
   "execution_count": 56,
   "id": "733a1d69",
   "metadata": {},
   "outputs": [],
   "source": [
    "import keras\n",
    "from keras import layers\n",
    "import numpy as np\n",
    "import random\n",
    "import io"
   ]
  },
  {
   "cell_type": "code",
   "execution_count": 57,
   "id": "4d55a0ea",
   "metadata": {},
   "outputs": [],
   "source": [
    "text = \"Lys_mykyta.txt\""
   ]
  },
  {
   "cell_type": "code",
   "execution_count": 58,
   "id": "181b319f",
   "metadata": {},
   "outputs": [
    {
     "name": "stdout",
     "output_type": "stream",
     "text": [
      "Corpus length: 86526\n",
      "Total chars: 49\n"
     ]
    }
   ],
   "source": [
    "with io.open(text, encoding=\"utf-8\") as f:\n",
    "    text = f.read().lower()\n",
    "text = text.replace(\"\\n\", \" \")\n",
    "print(\"Corpus length:\", len(text))\n",
    "\n",
    "chars = sorted(list(set(text)))\n",
    "print(\"Total chars:\", len(chars))\n",
    "char_indices = dict((c, i) for i, c in enumerate(chars))\n",
    "indices_char = dict((i, c) for i, c in enumerate(chars))"
   ]
  },
  {
   "cell_type": "code",
   "execution_count": 59,
   "id": "cc4e2d6d",
   "metadata": {},
   "outputs": [
    {
     "name": "stdout",
     "output_type": "stream",
     "text": [
      "Number of sequences: 28829\n"
     ]
    }
   ],
   "source": [
    "maxlen = 40\n",
    "step = 3\n",
    "sentences = []\n",
    "next_chars = []\n",
    "for i in range(0, len(text) - maxlen, step):\n",
    "    sentences.append(text[i : i + maxlen])\n",
    "    next_chars.append(text[i + maxlen])\n",
    "print(\"Number of sequences:\", len(sentences))"
   ]
  },
  {
   "cell_type": "code",
   "execution_count": 60,
   "id": "18c1bc7a",
   "metadata": {},
   "outputs": [],
   "source": [
    "x = np.zeros((len(sentences), maxlen, len(chars)), dtype=\"bool\")\n",
    "y = np.zeros((len(sentences), len(chars)), dtype=\"bool\")\n",
    "for i, sentence in enumerate(sentences):\n",
    "    for t, char in enumerate(sentence):\n",
    "        x[i, t, char_indices[char]] = 1\n",
    "    y[i, char_indices[next_chars[i]]] = 1"
   ]
  },
  {
   "cell_type": "code",
   "execution_count": 61,
   "id": "52d5476f",
   "metadata": {},
   "outputs": [],
   "source": [
    "model = keras.Sequential(\n",
    "    [\n",
    "        keras.Input(shape=(maxlen, len(chars))),\n",
    "        layers.LSTM(128),\n",
    "        layers.Dense(len(chars), activation=\"softmax\"),\n",
    "    ]\n",
    ")"
   ]
  },
  {
   "cell_type": "code",
   "execution_count": 62,
   "id": "9b98b6ba",
   "metadata": {},
   "outputs": [],
   "source": [
    "optimizer = keras.optimizers.RMSprop(learning_rate=0.01)\n",
    "model.compile(loss=\"categorical_crossentropy\", optimizer=optimizer)"
   ]
  },
  {
   "cell_type": "code",
   "execution_count": 63,
   "id": "75ec00ee",
   "metadata": {},
   "outputs": [],
   "source": [
    "def sample(preds, temperature=1.0):\n",
    "    preds = np.asarray(preds).astype(\"float64\")\n",
    "    preds = np.log(preds) / temperature\n",
    "    exp_preds = np.exp(preds)\n",
    "    preds = exp_preds / np.sum(exp_preds)\n",
    "    probas = np.random.multinomial(1, preds, 1)\n",
    "    return np.argmax(probas)"
   ]
  },
  {
   "cell_type": "code",
   "execution_count": 64,
   "id": "c558c7ce",
   "metadata": {},
   "outputs": [
    {
     "name": "stdout",
     "output_type": "stream",
     "text": [
      "Epoch 1/25\n",
      "226/226 [==============================] - 15s 54ms/step - loss: 2.7476\n",
      "Epoch 2/25\n",
      "226/226 [==============================] - 10s 43ms/step - loss: 2.3643\n",
      "Epoch 3/25\n",
      "226/226 [==============================] - 10s 43ms/step - loss: 2.2205\n",
      "Epoch 4/25\n",
      "226/226 [==============================] - 9s 42ms/step - loss: 2.1055\n",
      "Epoch 5/25\n",
      "226/226 [==============================] - 10s 42ms/step - loss: 2.0039\n",
      "Epoch 6/25\n",
      "226/226 [==============================] - 10s 44ms/step - loss: 1.9031\n",
      "Epoch 7/25\n",
      "226/226 [==============================] - 10s 43ms/step - loss: 1.8007\n",
      "Epoch 8/25\n",
      "226/226 [==============================] - 10s 43ms/step - loss: 1.6983\n",
      "Epoch 9/25\n",
      "226/226 [==============================] - 10s 43ms/step - loss: 1.6050\n",
      "Epoch 10/25\n",
      "226/226 [==============================] - 10s 42ms/step - loss: 1.5236\n",
      "Epoch 11/25\n",
      "226/226 [==============================] - 10s 42ms/step - loss: 1.4528\n",
      "Epoch 12/25\n",
      "226/226 [==============================] - 9s 42ms/step - loss: 1.3892\n",
      "Epoch 13/25\n",
      "226/226 [==============================] - 10s 42ms/step - loss: 1.3429\n",
      "Epoch 14/25\n",
      "226/226 [==============================] - 10s 43ms/step - loss: 1.3059\n",
      "Epoch 15/25\n",
      "226/226 [==============================] - 10s 43ms/step - loss: 1.2708\n",
      "Epoch 16/25\n",
      "226/226 [==============================] - 10s 43ms/step - loss: 1.2364\n",
      "Epoch 17/25\n",
      "226/226 [==============================] - 10s 43ms/step - loss: 1.2084\n",
      "Epoch 18/25\n",
      "226/226 [==============================] - 10s 42ms/step - loss: 1.1836\n",
      "Epoch 19/25\n",
      "226/226 [==============================] - 10s 43ms/step - loss: 1.1617\n",
      "Epoch 20/25\n",
      "226/226 [==============================] - 10s 43ms/step - loss: 1.1421\n",
      "Epoch 21/25\n",
      "226/226 [==============================] - 11s 47ms/step - loss: 1.1218\n",
      "Epoch 22/25\n",
      "226/226 [==============================] - 11s 47ms/step - loss: 1.1047\n",
      "Epoch 23/25\n",
      "226/226 [==============================] - 10s 44ms/step - loss: 1.0884\n",
      "Epoch 24/25\n",
      "226/226 [==============================] - 10s 43ms/step - loss: 1.0660\n",
      "Epoch 25/25\n",
      "226/226 [==============================] - 10s 43ms/step - loss: 1.0442\n"
     ]
    },
    {
     "data": {
      "text/plain": [
       "<keras.src.callbacks.History at 0x1e4860ae410>"
      ]
     },
     "execution_count": 64,
     "metadata": {},
     "output_type": "execute_result"
    }
   ],
   "source": [
    "model.fit(x, y, batch_size=128, epochs=25)"
   ]
  },
  {
   "cell_type": "code",
   "execution_count": 83,
   "id": "5690ac1d",
   "metadata": {},
   "outputs": [],
   "source": [
    "def generate_text(start_index, length):\n",
    "        generated_text = \"\"\n",
    "        sentence = text[start_index : start_index + maxlen]\n",
    "        x_pred = np.zeros((1, maxlen, len(chars)))\n",
    "        for i in range(length):\n",
    "            x_pred = np.zeros((1, maxlen, len(chars)))\n",
    "            for t, char in enumerate(sentence):\n",
    "                x_pred[0, t, char_indices[char]] = 1.0\n",
    "            preds = model.predict(x_pred, verbose=0)[0]\n",
    "            next_index = sample(preds, 0.1)\n",
    "            next_char = indices_char[next_index]\n",
    "            sentence = sentence[1:] + next_char\n",
    "            generated_text += next_char\n",
    "        return generated_text"
   ]
  },
  {
   "cell_type": "code",
   "execution_count": 84,
   "id": "2bb0ed44",
   "metadata": {},
   "outputs": [],
   "source": [
    "start_index = random.randint(0, len(text) - maxlen - 1)"
   ]
  },
  {
   "cell_type": "code",
   "execution_count": 85,
   "id": "73dfbe5f",
   "metadata": {},
   "outputs": [
    {
     "name": "stdout",
     "output_type": "stream",
     "text": [
      "Generated text:  почав він, про повічиться, то він смаєть!  – друже! – а мурлика привдав крикнув лис микита голова с\n"
     ]
    }
   ],
   "source": [
    "print(f\"Generated text: {generate_text(start_index, 100)}\")"
   ]
  },
  {
   "cell_type": "code",
   "execution_count": null,
   "id": "6c538f7e",
   "metadata": {},
   "outputs": [],
   "source": []
  }
 ],
 "metadata": {
  "kernelspec": {
   "display_name": "Python 3 (ipykernel)",
   "language": "python",
   "name": "python3"
  },
  "language_info": {
   "codemirror_mode": {
    "name": "ipython",
    "version": 3
   },
   "file_extension": ".py",
   "mimetype": "text/x-python",
   "name": "python",
   "nbconvert_exporter": "python",
   "pygments_lexer": "ipython3",
   "version": "3.10.0"
  }
 },
 "nbformat": 4,
 "nbformat_minor": 5
}
