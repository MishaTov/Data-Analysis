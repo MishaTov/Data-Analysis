{
 "cells": [
  {
   "cell_type": "code",
   "execution_count": null,
   "id": "4f7190ac",
   "metadata": {},
   "outputs": [],
   "source": [
    "#3.1"
   ]
  },
  {
   "cell_type": "code",
   "execution_count": 2,
   "id": "f3602219",
   "metadata": {},
   "outputs": [
    {
     "name": "stdout",
     "output_type": "stream",
     "text": [
      "WARNING:tensorflow:From D:\\python\\lib\\site-packages\\keras\\src\\losses.py:2976: The name tf.losses.sparse_softmax_cross_entropy is deprecated. Please use tf.compat.v1.losses.sparse_softmax_cross_entropy instead.\n",
      "\n"
     ]
    }
   ],
   "source": [
    "import numpy as np\n",
    "import pandas as pd\n",
    "from sklearn.model_selection import train_test_split\n",
    "from sklearn.preprocessing import StandardScaler\n",
    "import tensorflow as tf\n",
    "from tensorflow import keras\n",
    "from tensorflow.keras import layers\n",
    "from sklearn.metrics import classification_report, confusion_matrix\n",
    "import matplotlib.pyplot as plt"
   ]
  },
  {
   "cell_type": "code",
   "execution_count": 3,
   "id": "c3494451",
   "metadata": {},
   "outputs": [],
   "source": [
    "dataset = 'SaYoPillow.csv'"
   ]
  },
  {
   "cell_type": "code",
   "execution_count": 4,
   "id": "81b20dde",
   "metadata": {},
   "outputs": [],
   "source": [
    "data = pd.read_csv(dataset)"
   ]
  },
  {
   "cell_type": "code",
   "execution_count": 5,
   "id": "747e2bbc",
   "metadata": {},
   "outputs": [
    {
     "data": {
      "text/html": [
       "<div>\n",
       "<style scoped>\n",
       "    .dataframe tbody tr th:only-of-type {\n",
       "        vertical-align: middle;\n",
       "    }\n",
       "\n",
       "    .dataframe tbody tr th {\n",
       "        vertical-align: top;\n",
       "    }\n",
       "\n",
       "    .dataframe thead th {\n",
       "        text-align: right;\n",
       "    }\n",
       "</style>\n",
       "<table border=\"1\" class=\"dataframe\">\n",
       "  <thead>\n",
       "    <tr style=\"text-align: right;\">\n",
       "      <th></th>\n",
       "      <th>sr</th>\n",
       "      <th>rr</th>\n",
       "      <th>t</th>\n",
       "      <th>lm</th>\n",
       "      <th>bo</th>\n",
       "      <th>rem</th>\n",
       "      <th>sr.1</th>\n",
       "      <th>hr</th>\n",
       "      <th>sl</th>\n",
       "    </tr>\n",
       "  </thead>\n",
       "  <tbody>\n",
       "    <tr>\n",
       "      <th>0</th>\n",
       "      <td>93.80</td>\n",
       "      <td>25.680</td>\n",
       "      <td>91.840</td>\n",
       "      <td>16.600</td>\n",
       "      <td>89.840</td>\n",
       "      <td>99.60</td>\n",
       "      <td>1.840</td>\n",
       "      <td>74.20</td>\n",
       "      <td>3</td>\n",
       "    </tr>\n",
       "    <tr>\n",
       "      <th>1</th>\n",
       "      <td>91.64</td>\n",
       "      <td>25.104</td>\n",
       "      <td>91.552</td>\n",
       "      <td>15.880</td>\n",
       "      <td>89.552</td>\n",
       "      <td>98.88</td>\n",
       "      <td>1.552</td>\n",
       "      <td>72.76</td>\n",
       "      <td>3</td>\n",
       "    </tr>\n",
       "    <tr>\n",
       "      <th>2</th>\n",
       "      <td>60.00</td>\n",
       "      <td>20.000</td>\n",
       "      <td>96.000</td>\n",
       "      <td>10.000</td>\n",
       "      <td>95.000</td>\n",
       "      <td>85.00</td>\n",
       "      <td>7.000</td>\n",
       "      <td>60.00</td>\n",
       "      <td>1</td>\n",
       "    </tr>\n",
       "    <tr>\n",
       "      <th>3</th>\n",
       "      <td>85.76</td>\n",
       "      <td>23.536</td>\n",
       "      <td>90.768</td>\n",
       "      <td>13.920</td>\n",
       "      <td>88.768</td>\n",
       "      <td>96.92</td>\n",
       "      <td>0.768</td>\n",
       "      <td>68.84</td>\n",
       "      <td>3</td>\n",
       "    </tr>\n",
       "    <tr>\n",
       "      <th>4</th>\n",
       "      <td>48.12</td>\n",
       "      <td>17.248</td>\n",
       "      <td>97.872</td>\n",
       "      <td>6.496</td>\n",
       "      <td>96.248</td>\n",
       "      <td>72.48</td>\n",
       "      <td>8.248</td>\n",
       "      <td>53.12</td>\n",
       "      <td>0</td>\n",
       "    </tr>\n",
       "  </tbody>\n",
       "</table>\n",
       "</div>"
      ],
      "text/plain": [
       "      sr      rr       t      lm      bo    rem   sr.1     hr  sl\n",
       "0  93.80  25.680  91.840  16.600  89.840  99.60  1.840  74.20   3\n",
       "1  91.64  25.104  91.552  15.880  89.552  98.88  1.552  72.76   3\n",
       "2  60.00  20.000  96.000  10.000  95.000  85.00  7.000  60.00   1\n",
       "3  85.76  23.536  90.768  13.920  88.768  96.92  0.768  68.84   3\n",
       "4  48.12  17.248  97.872   6.496  96.248  72.48  8.248  53.12   0"
      ]
     },
     "execution_count": 5,
     "metadata": {},
     "output_type": "execute_result"
    }
   ],
   "source": [
    "data.head()"
   ]
  },
  {
   "cell_type": "code",
   "execution_count": 6,
   "id": "6482459b",
   "metadata": {},
   "outputs": [],
   "source": [
    "X = data.drop('sl', axis=1)\n",
    "y = data['sl']"
   ]
  },
  {
   "cell_type": "code",
   "execution_count": 7,
   "id": "bcf1d47b",
   "metadata": {},
   "outputs": [],
   "source": [
    "X_train, X_test, y_train, y_test = train_test_split(X, y, test_size = 0.3)"
   ]
  },
  {
   "cell_type": "code",
   "execution_count": 8,
   "id": "3b2281c7",
   "metadata": {},
   "outputs": [],
   "source": [
    "scaler = StandardScaler()\n",
    "X_train = scaler.fit_transform(X_train)\n",
    "X_test = scaler.transform(X_test)"
   ]
  },
  {
   "cell_type": "code",
   "execution_count": 9,
   "id": "98c42601",
   "metadata": {},
   "outputs": [
    {
     "name": "stdout",
     "output_type": "stream",
     "text": [
      "WARNING:tensorflow:From D:\\python\\lib\\site-packages\\keras\\src\\backend.py:873: The name tf.get_default_graph is deprecated. Please use tf.compat.v1.get_default_graph instead.\n",
      "\n"
     ]
    }
   ],
   "source": [
    "model = tf.keras.Sequential([\n",
    "    tf.keras.layers.Dense(10, input_shape=(X_train.shape[1],), activation='relu'),\n",
    "    tf.keras.layers.Dense(6, activation='softmax')\n",
    "])"
   ]
  },
  {
   "cell_type": "code",
   "execution_count": 10,
   "id": "65d00e0b",
   "metadata": {},
   "outputs": [
    {
     "name": "stdout",
     "output_type": "stream",
     "text": [
      "WARNING:tensorflow:From D:\\python\\lib\\site-packages\\keras\\src\\optimizers\\__init__.py:309: The name tf.train.Optimizer is deprecated. Please use tf.compat.v1.train.Optimizer instead.\n",
      "\n"
     ]
    }
   ],
   "source": [
    "model.compile(optimizer='adam', loss='sparse_categorical_crossentropy', metrics=['accuracy'])"
   ]
  },
  {
   "cell_type": "code",
   "execution_count": 11,
   "id": "dacb52aa",
   "metadata": {},
   "outputs": [
    {
     "name": "stdout",
     "output_type": "stream",
     "text": [
      "Epoch 1/100\n",
      "WARNING:tensorflow:From D:\\python\\lib\\site-packages\\keras\\src\\utils\\tf_utils.py:492: The name tf.ragged.RaggedTensorValue is deprecated. Please use tf.compat.v1.ragged.RaggedTensorValue instead.\n",
      "\n",
      "WARNING:tensorflow:From D:\\python\\lib\\site-packages\\keras\\src\\engine\\base_layer_utils.py:384: The name tf.executing_eagerly_outside_functions is deprecated. Please use tf.compat.v1.executing_eagerly_outside_functions instead.\n",
      "\n",
      "441/441 [==============================] - 1s 1ms/step - loss: 1.6850 - accuracy: 0.3039\n",
      "Epoch 2/100\n",
      "441/441 [==============================] - 0s 1ms/step - loss: 1.0998 - accuracy: 0.5420\n",
      "Epoch 3/100\n",
      "441/441 [==============================] - 0s 1ms/step - loss: 0.7572 - accuracy: 0.7438\n",
      "Epoch 4/100\n",
      "441/441 [==============================] - 0s 999us/step - loss: 0.5195 - accuracy: 0.8277\n",
      "Epoch 5/100\n",
      "441/441 [==============================] - 0s 1ms/step - loss: 0.3382 - accuracy: 0.9592\n",
      "Epoch 6/100\n",
      "441/441 [==============================] - 0s 1ms/step - loss: 0.2208 - accuracy: 1.0000\n",
      "Epoch 7/100\n",
      "441/441 [==============================] - 0s 945us/step - loss: 0.1477 - accuracy: 1.0000\n",
      "Epoch 8/100\n",
      "441/441 [==============================] - 0s 1ms/step - loss: 0.1020 - accuracy: 1.0000\n",
      "Epoch 9/100\n",
      "441/441 [==============================] - 0s 1ms/step - loss: 0.0721 - accuracy: 1.0000\n",
      "Epoch 10/100\n",
      "441/441 [==============================] - 0s 1ms/step - loss: 0.0518 - accuracy: 1.0000\n",
      "Epoch 11/100\n",
      "441/441 [==============================] - 0s 978us/step - loss: 0.0387 - accuracy: 1.0000\n",
      "Epoch 12/100\n",
      "441/441 [==============================] - 0s 1ms/step - loss: 0.0291 - accuracy: 1.0000\n",
      "Epoch 13/100\n",
      "441/441 [==============================] - 0s 1ms/step - loss: 0.0218 - accuracy: 1.0000\n",
      "Epoch 14/100\n",
      "441/441 [==============================] - 0s 1ms/step - loss: 0.0164 - accuracy: 1.0000\n",
      "Epoch 15/100\n",
      "441/441 [==============================] - 0s 1ms/step - loss: 0.0122 - accuracy: 1.0000\n",
      "Epoch 16/100\n",
      "441/441 [==============================] - 0s 992us/step - loss: 0.0092 - accuracy: 1.0000\n",
      "Epoch 17/100\n",
      "441/441 [==============================] - 0s 1ms/step - loss: 0.0070 - accuracy: 1.0000\n",
      "Epoch 18/100\n",
      "441/441 [==============================] - 0s 1ms/step - loss: 0.0054 - accuracy: 1.0000\n",
      "Epoch 19/100\n",
      "441/441 [==============================] - 1s 1ms/step - loss: 0.0043 - accuracy: 1.0000\n",
      "Epoch 20/100\n",
      "441/441 [==============================] - 0s 1ms/step - loss: 0.0033 - accuracy: 1.0000\n",
      "Epoch 21/100\n",
      "441/441 [==============================] - 0s 1ms/step - loss: 0.0027 - accuracy: 1.0000\n",
      "Epoch 22/100\n",
      "441/441 [==============================] - 0s 1ms/step - loss: 0.0021 - accuracy: 1.0000\n",
      "Epoch 23/100\n",
      "441/441 [==============================] - 0s 1ms/step - loss: 0.0017 - accuracy: 1.0000\n",
      "Epoch 24/100\n",
      "441/441 [==============================] - 0s 968us/step - loss: 0.0013 - accuracy: 1.0000\n",
      "Epoch 25/100\n",
      "441/441 [==============================] - 1s 1ms/step - loss: 0.0011 - accuracy: 1.0000\n",
      "Epoch 26/100\n",
      "441/441 [==============================] - 1s 1ms/step - loss: 8.4128e-04 - accuracy: 1.0000\n",
      "Epoch 27/100\n",
      "441/441 [==============================] - 0s 1ms/step - loss: 6.7740e-04 - accuracy: 1.0000\n",
      "Epoch 28/100\n",
      "441/441 [==============================] - 0s 946us/step - loss: 5.3778e-04 - accuracy: 1.0000\n",
      "Epoch 29/100\n",
      "441/441 [==============================] - 0s 1ms/step - loss: 4.2348e-04 - accuracy: 1.0000\n",
      "Epoch 30/100\n",
      "441/441 [==============================] - 1s 1ms/step - loss: 3.5392e-04 - accuracy: 1.0000\n",
      "Epoch 31/100\n",
      "441/441 [==============================] - 1s 1ms/step - loss: 2.7526e-04 - accuracy: 1.0000\n",
      "Epoch 32/100\n",
      "441/441 [==============================] - 0s 968us/step - loss: 2.3020e-04 - accuracy: 1.0000\n",
      "Epoch 33/100\n",
      "441/441 [==============================] - 0s 1ms/step - loss: 1.8262e-04 - accuracy: 1.0000\n",
      "Epoch 34/100\n",
      "441/441 [==============================] - 0s 1ms/step - loss: 1.4489e-04 - accuracy: 1.0000\n",
      "Epoch 35/100\n",
      "441/441 [==============================] - 0s 1ms/step - loss: 1.1817e-04 - accuracy: 1.0000\n",
      "Epoch 36/100\n",
      "441/441 [==============================] - 0s 986us/step - loss: 9.5968e-05 - accuracy: 1.0000\n",
      "Epoch 37/100\n",
      "441/441 [==============================] - 0s 1ms/step - loss: 7.5580e-05 - accuracy: 1.0000\n",
      "Epoch 38/100\n",
      "441/441 [==============================] - 1s 1ms/step - loss: 6.1990e-05 - accuracy: 1.0000\n",
      "Epoch 39/100\n",
      "441/441 [==============================] - 1s 1ms/step - loss: 5.0281e-05 - accuracy: 1.0000\n",
      "Epoch 40/100\n",
      "441/441 [==============================] - 0s 1ms/step - loss: 3.8799e-05 - accuracy: 1.0000\n",
      "Epoch 41/100\n",
      "441/441 [==============================] - 0s 1ms/step - loss: 3.2258e-05 - accuracy: 1.0000\n",
      "Epoch 42/100\n",
      "441/441 [==============================] - 0s 1ms/step - loss: 2.7160e-05 - accuracy: 1.0000\n",
      "Epoch 43/100\n",
      "441/441 [==============================] - 1s 1ms/step - loss: 2.1348e-05 - accuracy: 1.0000\n",
      "Epoch 44/100\n",
      "441/441 [==============================] - 1s 1ms/step - loss: 1.7611e-05 - accuracy: 1.0000\n",
      "Epoch 45/100\n",
      "441/441 [==============================] - 1s 1ms/step - loss: 1.4265e-05 - accuracy: 1.0000\n",
      "Epoch 46/100\n",
      "441/441 [==============================] - 1s 1ms/step - loss: 1.1559e-05 - accuracy: 1.0000\n",
      "Epoch 47/100\n",
      "441/441 [==============================] - 0s 1ms/step - loss: 9.4195e-06 - accuracy: 1.0000\n",
      "Epoch 48/100\n",
      "441/441 [==============================] - 0s 914us/step - loss: 7.4592e-06 - accuracy: 1.0000\n",
      "Epoch 49/100\n",
      "441/441 [==============================] - 1s 1ms/step - loss: 6.0855e-06 - accuracy: 1.0000\n",
      "Epoch 50/100\n",
      "441/441 [==============================] - 1s 1ms/step - loss: 5.0124e-06 - accuracy: 1.0000\n",
      "Epoch 51/100\n",
      "441/441 [==============================] - 1s 1ms/step - loss: 4.2458e-06 - accuracy: 1.0000\n",
      "Epoch 52/100\n",
      "441/441 [==============================] - 1s 1ms/step - loss: 3.4165e-06 - accuracy: 1.0000\n",
      "Epoch 53/100\n",
      "441/441 [==============================] - 1s 1ms/step - loss: 2.6526e-06 - accuracy: 1.0000\n",
      "Epoch 54/100\n",
      "441/441 [==============================] - 1s 2ms/step - loss: 2.0912e-06 - accuracy: 1.0000\n",
      "Epoch 55/100\n",
      "441/441 [==============================] - 1s 1ms/step - loss: 1.8641e-06 - accuracy: 1.0000\n",
      "Epoch 56/100\n",
      "441/441 [==============================] - 1s 1ms/step - loss: 1.4332e-06 - accuracy: 1.0000\n",
      "Epoch 57/100\n",
      "441/441 [==============================] - 1s 1ms/step - loss: 1.1602e-06 - accuracy: 1.0000\n",
      "Epoch 58/100\n",
      "441/441 [==============================] - 0s 820us/step - loss: 9.3529e-07 - accuracy: 1.0000\n",
      "Epoch 59/100\n",
      "441/441 [==============================] - 0s 791us/step - loss: 7.7418e-07 - accuracy: 1.0000\n",
      "Epoch 60/100\n",
      "441/441 [==============================] - 0s 864us/step - loss: 6.6525e-07 - accuracy: 1.0000\n",
      "Epoch 61/100\n",
      "441/441 [==============================] - 0s 1ms/step - loss: 5.2252e-07 - accuracy: 1.0000\n",
      "Epoch 62/100\n",
      "441/441 [==============================] - 0s 1ms/step - loss: 4.1575e-07 - accuracy: 1.0000\n",
      "Epoch 63/100\n",
      "441/441 [==============================] - 1s 1ms/step - loss: 3.5141e-07 - accuracy: 1.0000\n",
      "Epoch 64/100\n",
      "441/441 [==============================] - 0s 945us/step - loss: 2.6896e-07 - accuracy: 1.0000\n",
      "Epoch 65/100\n",
      "441/441 [==============================] - 0s 861us/step - loss: 2.3680e-07 - accuracy: 1.0000\n",
      "Epoch 66/100\n",
      "441/441 [==============================] - 0s 834us/step - loss: 1.8381e-07 - accuracy: 1.0000\n",
      "Epoch 67/100\n",
      "441/441 [==============================] - 0s 1ms/step - loss: 1.5570e-07 - accuracy: 1.0000\n",
      "Epoch 68/100\n",
      "441/441 [==============================] - 0s 826us/step - loss: 1.2813e-07 - accuracy: 1.0000\n",
      "Epoch 69/100\n",
      "441/441 [==============================] - 0s 802us/step - loss: 1.0137e-07 - accuracy: 1.0000\n",
      "Epoch 70/100\n",
      "441/441 [==============================] - 0s 801us/step - loss: 8.1635e-08 - accuracy: 1.0000\n",
      "Epoch 71/100\n",
      "441/441 [==============================] - 0s 817us/step - loss: 7.0282e-08 - accuracy: 1.0000\n",
      "Epoch 72/100\n",
      "441/441 [==============================] - 0s 817us/step - loss: 5.1901e-08 - accuracy: 1.0000\n",
      "Epoch 73/100\n",
      "441/441 [==============================] - 0s 814us/step - loss: 4.5413e-08 - accuracy: 1.0000\n",
      "Epoch 74/100\n"
     ]
    },
    {
     "name": "stdout",
     "output_type": "stream",
     "text": [
      "441/441 [==============================] - 0s 1ms/step - loss: 3.7304e-08 - accuracy: 1.0000\n",
      "Epoch 75/100\n",
      "441/441 [==============================] - 0s 853us/step - loss: 2.8113e-08 - accuracy: 1.0000\n",
      "Epoch 76/100\n",
      "441/441 [==============================] - 0s 859us/step - loss: 2.8113e-08 - accuracy: 1.0000\n",
      "Epoch 77/100\n",
      "441/441 [==============================] - 0s 817us/step - loss: 2.5410e-08 - accuracy: 1.0000\n",
      "Epoch 78/100\n",
      "441/441 [==============================] - 0s 799us/step - loss: 2.1625e-08 - accuracy: 1.0000\n",
      "Epoch 79/100\n",
      "441/441 [==============================] - 0s 814us/step - loss: 1.5678e-08 - accuracy: 1.0000\n",
      "Epoch 80/100\n",
      "441/441 [==============================] - 0s 882us/step - loss: 1.4597e-08 - accuracy: 1.0000\n",
      "Epoch 81/100\n",
      "441/441 [==============================] - 0s 801us/step - loss: 1.2164e-08 - accuracy: 1.0000\n",
      "Epoch 82/100\n",
      "441/441 [==============================] - 0s 848us/step - loss: 1.0272e-08 - accuracy: 1.0000\n",
      "Epoch 83/100\n",
      "441/441 [==============================] - 0s 857us/step - loss: 1.0813e-08 - accuracy: 1.0000\n",
      "Epoch 84/100\n",
      "441/441 [==============================] - 0s 977us/step - loss: 7.0282e-09 - accuracy: 1.0000\n",
      "Epoch 85/100\n",
      "441/441 [==============================] - 0s 864us/step - loss: 7.2985e-09 - accuracy: 1.0000\n",
      "Epoch 86/100\n",
      "441/441 [==============================] - 0s 926us/step - loss: 6.4876e-09 - accuracy: 1.0000\n",
      "Epoch 87/100\n",
      "441/441 [==============================] - 0s 891us/step - loss: 7.0282e-09 - accuracy: 1.0000\n",
      "Epoch 88/100\n",
      "441/441 [==============================] - 0s 956us/step - loss: 5.1360e-09 - accuracy: 1.0000\n",
      "Epoch 89/100\n",
      "441/441 [==============================] - 0s 1ms/step - loss: 4.5954e-09 - accuracy: 1.0000\n",
      "Epoch 90/100\n",
      "441/441 [==============================] - 0s 862us/step - loss: 4.3251e-09 - accuracy: 1.0000\n",
      "Epoch 91/100\n",
      "441/441 [==============================] - 0s 832us/step - loss: 2.1625e-09 - accuracy: 1.0000\n",
      "Epoch 92/100\n",
      "441/441 [==============================] - 0s 882us/step - loss: 4.0547e-09 - accuracy: 1.0000\n",
      "Epoch 93/100\n",
      "441/441 [==============================] - 0s 853us/step - loss: 1.8922e-09 - accuracy: 1.0000\n",
      "Epoch 94/100\n",
      "441/441 [==============================] - 0s 829us/step - loss: 2.1625e-09 - accuracy: 1.0000\n",
      "Epoch 95/100\n",
      "441/441 [==============================] - 0s 916us/step - loss: 1.6219e-09 - accuracy: 1.0000\n",
      "Epoch 96/100\n",
      "441/441 [==============================] - 0s 1ms/step - loss: 1.6219e-09 - accuracy: 1.0000\n",
      "Epoch 97/100\n",
      "441/441 [==============================] - 0s 1ms/step - loss: 2.1625e-09 - accuracy: 1.0000\n",
      "Epoch 98/100\n",
      "441/441 [==============================] - 0s 836us/step - loss: 8.1095e-10 - accuracy: 1.0000\n",
      "Epoch 99/100\n",
      "441/441 [==============================] - 0s 1ms/step - loss: 1.0813e-09 - accuracy: 1.0000\n",
      "Epoch 100/100\n",
      "441/441 [==============================] - 0s 884us/step - loss: 5.4063e-10 - accuracy: 1.0000\n"
     ]
    },
    {
     "data": {
      "text/plain": [
       "<keras.src.callbacks.History at 0x145c2aaf9d0>"
      ]
     },
     "execution_count": 11,
     "metadata": {},
     "output_type": "execute_result"
    }
   ],
   "source": [
    "model.fit(X_train, y_train, epochs=100, batch_size=1, verbose=1)"
   ]
  },
  {
   "cell_type": "code",
   "execution_count": 14,
   "id": "5dd5437d",
   "metadata": {},
   "outputs": [
    {
     "name": "stdout",
     "output_type": "stream",
     "text": [
      "6/6 [==============================] - 0s 1ms/step\n",
      "              precision    recall  f1-score   support\n",
      "\n",
      "           0       1.00      1.00      1.00        37\n",
      "           1       1.00      1.00      1.00        38\n",
      "           2       1.00      1.00      1.00        39\n",
      "           3       1.00      1.00      1.00        33\n",
      "           4       1.00      1.00      1.00        42\n",
      "\n",
      "    accuracy                           1.00       189\n",
      "   macro avg       1.00      1.00      1.00       189\n",
      "weighted avg       1.00      1.00      1.00       189\n",
      "\n"
     ]
    }
   ],
   "source": [
    "y_pred = np.argmax(model.predict(X_test), axis=1)\n",
    "print(classification_report(y_test, y_pred))"
   ]
  },
  {
   "cell_type": "code",
   "execution_count": 15,
   "id": "106ed83a",
   "metadata": {},
   "outputs": [
    {
     "name": "stdout",
     "output_type": "stream",
     "text": [
      "[[37  0  0  0  0]\n",
      " [ 0 38  0  0  0]\n",
      " [ 0  0 39  0  0]\n",
      " [ 0  0  0 33  0]\n",
      " [ 0  0  0  0 42]]\n"
     ]
    }
   ],
   "source": [
    "print(confusion_matrix(y_test, y_pred))"
   ]
  },
  {
   "cell_type": "code",
   "execution_count": null,
   "id": "b79ca2f2",
   "metadata": {},
   "outputs": [],
   "source": []
  }
 ],
 "metadata": {
  "kernelspec": {
   "display_name": "Python 3 (ipykernel)",
   "language": "python",
   "name": "python3"
  },
  "language_info": {
   "codemirror_mode": {
    "name": "ipython",
    "version": 3
   },
   "file_extension": ".py",
   "mimetype": "text/x-python",
   "name": "python",
   "nbconvert_exporter": "python",
   "pygments_lexer": "ipython3",
   "version": "3.10.0"
  }
 },
 "nbformat": 4,
 "nbformat_minor": 5
}
