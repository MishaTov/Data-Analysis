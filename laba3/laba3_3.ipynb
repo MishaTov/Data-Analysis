{
 "cells": [
  {
   "cell_type": "code",
   "execution_count": 18,
   "id": "3fa8c2aa",
   "metadata": {},
   "outputs": [],
   "source": [
    "import pandas as pd\n",
    "from nltk.corpus import stopwords\n",
    "import nltk\n",
    "import re\n",
    "import string\n",
    "from sklearn.model_selection import train_test_split\n",
    "import tensorflow as tf\n",
    "from tensorflow import keras\n",
    "from keras import layers\n",
    "from keras.preprocessing.text import Tokenizer\n",
    "from keras.preprocessing.sequence import pad_sequences"
   ]
  },
  {
   "cell_type": "code",
   "execution_count": 3,
   "id": "ef658387",
   "metadata": {},
   "outputs": [],
   "source": [
    "text_dataset = \"emails.csv\""
   ]
  },
  {
   "cell_type": "code",
   "execution_count": 5,
   "id": "4fb1c402",
   "metadata": {},
   "outputs": [],
   "source": [
    "text_data = pd.read_csv(text_dataset)"
   ]
  },
  {
   "cell_type": "code",
   "execution_count": 6,
   "id": "0d046623",
   "metadata": {},
   "outputs": [
    {
     "data": {
      "text/html": [
       "<div>\n",
       "<style scoped>\n",
       "    .dataframe tbody tr th:only-of-type {\n",
       "        vertical-align: middle;\n",
       "    }\n",
       "\n",
       "    .dataframe tbody tr th {\n",
       "        vertical-align: top;\n",
       "    }\n",
       "\n",
       "    .dataframe thead th {\n",
       "        text-align: right;\n",
       "    }\n",
       "</style>\n",
       "<table border=\"1\" class=\"dataframe\">\n",
       "  <thead>\n",
       "    <tr style=\"text-align: right;\">\n",
       "      <th></th>\n",
       "      <th>text</th>\n",
       "      <th>spam</th>\n",
       "    </tr>\n",
       "  </thead>\n",
       "  <tbody>\n",
       "    <tr>\n",
       "      <th>0</th>\n",
       "      <td>Subject: naturally irresistible your corporate...</td>\n",
       "      <td>1</td>\n",
       "    </tr>\n",
       "    <tr>\n",
       "      <th>1</th>\n",
       "      <td>Subject: the stock trading gunslinger  fanny i...</td>\n",
       "      <td>1</td>\n",
       "    </tr>\n",
       "    <tr>\n",
       "      <th>2</th>\n",
       "      <td>Subject: unbelievable new homes made easy  im ...</td>\n",
       "      <td>1</td>\n",
       "    </tr>\n",
       "    <tr>\n",
       "      <th>3</th>\n",
       "      <td>Subject: 4 color printing special  request add...</td>\n",
       "      <td>1</td>\n",
       "    </tr>\n",
       "    <tr>\n",
       "      <th>4</th>\n",
       "      <td>Subject: do not have money , get software cds ...</td>\n",
       "      <td>1</td>\n",
       "    </tr>\n",
       "  </tbody>\n",
       "</table>\n",
       "</div>"
      ],
      "text/plain": [
       "                                                text  spam\n",
       "0  Subject: naturally irresistible your corporate...     1\n",
       "1  Subject: the stock trading gunslinger  fanny i...     1\n",
       "2  Subject: unbelievable new homes made easy  im ...     1\n",
       "3  Subject: 4 color printing special  request add...     1\n",
       "4  Subject: do not have money , get software cds ...     1"
      ]
     },
     "execution_count": 6,
     "metadata": {},
     "output_type": "execute_result"
    }
   ],
   "source": [
    "text_data.head()"
   ]
  },
  {
   "cell_type": "code",
   "execution_count": 7,
   "id": "0d81cce7",
   "metadata": {},
   "outputs": [],
   "source": [
    "stop_words = set(stopwords.words(\"english\"))"
   ]
  },
  {
   "cell_type": "code",
   "execution_count": 8,
   "id": "0d52c5e8",
   "metadata": {},
   "outputs": [],
   "source": [
    "def clean_text(text):\n",
    "    text = text.lower()\n",
    "    text = text[9:]\n",
    "    text = re.sub(\"@\\S+\", \" \", text)\n",
    "    text = re.sub(\"https*\\S+\", \" \", text)\n",
    "    text = re.sub(\"#\\S+\", \" \", text)\n",
    "    text = re.sub(\"\\d\", \" \", text)\n",
    "    text = re.sub('[%s]' % re.escape(string.punctuation), ' ', text)\n",
    "    text = re.sub('\\n', ' ', text)\n",
    "    text = re.sub('\\s{2,}',' ', text)\n",
    "    text = ' '.join([word for word in text.split(' ') if word not in stop_words])\n",
    "    text = text.strip()\n",
    "    return text"
   ]
  },
  {
   "cell_type": "code",
   "execution_count": 10,
   "id": "7768dd64",
   "metadata": {},
   "outputs": [
    {
     "name": "stderr",
     "output_type": "stream",
     "text": [
      "C:\\Users\\it02102021\\AppData\\Local\\Temp\\ipykernel_2160\\3449085219.py:3: SettingWithCopyWarning: \n",
      "A value is trying to be set on a copy of a slice from a DataFrame\n",
      "\n",
      "See the caveats in the documentation: https://pandas.pydata.org/pandas-docs/stable/user_guide/indexing.html#returning-a-view-versus-a-copy\n",
      "  text_data['text'][ind] = text\n"
     ]
    }
   ],
   "source": [
    "for ind, text in enumerate(text_data['text']):\n",
    "    text = clean_text(text)\n",
    "    text_data['text'][ind] = text"
   ]
  },
  {
   "cell_type": "code",
   "execution_count": 11,
   "id": "fb223a2e",
   "metadata": {},
   "outputs": [
    {
     "data": {
      "text/plain": [
       "0       irresistible corporate identity lt really hard...\n",
       "1       ding gunslinger fanny merrill muzo colza attai...\n",
       "2       ble new homes made easy im wanting show homeow...\n",
       "3       nting special request additional information c...\n",
       "4       software cds software compatibility great grow...\n",
       "                              ...                        \n",
       "5723    development charges gpg forwarded shirley cren...\n",
       "5724    visit jim thanks invitation visit lsu shirley ...\n",
       "5725    e study update wow day super thank much vince ...\n",
       "5726    david please call shirley crenshaw assistant e...\n",
       "5727    ra update aurora version fastest model got fas...\n",
       "Name: text, Length: 5728, dtype: object"
      ]
     },
     "execution_count": 11,
     "metadata": {},
     "output_type": "execute_result"
    }
   ],
   "source": [
    "text_data['text']"
   ]
  },
  {
   "cell_type": "code",
   "execution_count": 12,
   "id": "cc8b607e",
   "metadata": {},
   "outputs": [],
   "source": [
    "X = text_data['text']\n",
    "y = text_data['spam']"
   ]
  },
  {
   "cell_type": "code",
   "execution_count": 13,
   "id": "fe7191d4",
   "metadata": {},
   "outputs": [],
   "source": [
    "X_train, X_test, y_train, y_test = train_test_split(X, y, test_size=0.3)"
   ]
  },
  {
   "cell_type": "code",
   "execution_count": 14,
   "id": "ab5b3e88",
   "metadata": {},
   "outputs": [],
   "source": [
    "max_words = 10000\n",
    "max_seq_len = 100"
   ]
  },
  {
   "cell_type": "code",
   "execution_count": 19,
   "id": "f7850d52",
   "metadata": {},
   "outputs": [],
   "source": [
    "tokenizer = Tokenizer(num_words=max_words)\n",
    "tokenizer.fit_on_texts(X_train)"
   ]
  },
  {
   "cell_type": "code",
   "execution_count": 20,
   "id": "848fc987",
   "metadata": {},
   "outputs": [],
   "source": [
    "X_train = pad_sequences(tokenizer.texts_to_sequences(X_train), maxlen=max_seq_len)\n",
    "X_test = pad_sequences(tokenizer.texts_to_sequences(X_test), maxlen=max_seq_len)"
   ]
  },
  {
   "cell_type": "code",
   "execution_count": 21,
   "id": "76678fa8",
   "metadata": {},
   "outputs": [],
   "source": [
    "emb_dim = 128"
   ]
  },
  {
   "cell_type": "code",
   "execution_count": 23,
   "id": "72faa10e",
   "metadata": {},
   "outputs": [
    {
     "name": "stdout",
     "output_type": "stream",
     "text": [
      "WARNING:tensorflow:From D:\\python\\lib\\site-packages\\keras\\src\\backend.py:873: The name tf.get_default_graph is deprecated. Please use tf.compat.v1.get_default_graph instead.\n",
      "\n"
     ]
    }
   ],
   "source": [
    "model = keras.Sequential([\n",
    "    layers.Embedding(max_words, emb_dim),\n",
    "    layers.LSTM(128),\n",
    "    layers.Dense(1, activation='sigmoid')\n",
    "])"
   ]
  },
  {
   "cell_type": "code",
   "execution_count": 24,
   "id": "ef465e6b",
   "metadata": {},
   "outputs": [
    {
     "name": "stdout",
     "output_type": "stream",
     "text": [
      "WARNING:tensorflow:From D:\\python\\lib\\site-packages\\keras\\src\\optimizers\\__init__.py:309: The name tf.train.Optimizer is deprecated. Please use tf.compat.v1.train.Optimizer instead.\n",
      "\n"
     ]
    }
   ],
   "source": [
    "model.compile(optimizer='adam', loss='binary_crossentropy', metrics=['accuracy'])"
   ]
  },
  {
   "cell_type": "code",
   "execution_count": 29,
   "id": "fe70d8e6",
   "metadata": {},
   "outputs": [
    {
     "name": "stdout",
     "output_type": "stream",
     "text": [
      "Epoch 1/3\n",
      "22/22 [==============================] - 3s 155ms/step - loss: 8.9381e-04 - accuracy: 0.9996 - val_loss: 0.0479 - val_accuracy: 0.9867\n",
      "Epoch 2/3\n",
      "22/22 [==============================] - 3s 151ms/step - loss: 8.6148e-04 - accuracy: 0.9996 - val_loss: 0.0489 - val_accuracy: 0.9850\n",
      "Epoch 3/3\n",
      "22/22 [==============================] - 3s 152ms/step - loss: 8.3835e-04 - accuracy: 0.9996 - val_loss: 0.0501 - val_accuracy: 0.9859\n"
     ]
    },
    {
     "data": {
      "text/plain": [
       "<keras.src.callbacks.History at 0x1ec8fa91810>"
      ]
     },
     "execution_count": 29,
     "metadata": {},
     "output_type": "execute_result"
    }
   ],
   "source": [
    "model.fit(X_train, y_train, epochs=3, batch_size=128, validation_split=0.3)"
   ]
  },
  {
   "cell_type": "code",
   "execution_count": 40,
   "id": "9c1eb541",
   "metadata": {},
   "outputs": [
    {
     "name": "stdout",
     "output_type": "stream",
     "text": [
      "54/54 [==============================] - 1s 15ms/step - loss: 0.0692 - accuracy: 0.9825\n",
      "accuracy: 0.983\n"
     ]
    }
   ],
   "source": [
    "accuracy = model.evaluate(X_test, y_test)[1]\n",
    "print(f\"accuracy: {round(accuracy, 3)}\")"
   ]
  },
  {
   "cell_type": "code",
   "execution_count": null,
   "id": "06ef6173",
   "metadata": {},
   "outputs": [],
   "source": []
  }
 ],
 "metadata": {
  "kernelspec": {
   "display_name": "Python 3 (ipykernel)",
   "language": "python",
   "name": "python3"
  },
  "language_info": {
   "codemirror_mode": {
    "name": "ipython",
    "version": 3
   },
   "file_extension": ".py",
   "mimetype": "text/x-python",
   "name": "python",
   "nbconvert_exporter": "python",
   "pygments_lexer": "ipython3",
   "version": "3.10.0"
  }
 },
 "nbformat": 4,
 "nbformat_minor": 5
}
